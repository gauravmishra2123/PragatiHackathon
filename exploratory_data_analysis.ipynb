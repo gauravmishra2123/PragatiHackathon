# exploratory_data_analysis.ipynb (notebook cells)

# Cell 1: Imports
import pandas as pd
import matplotlib.pyplot as plt
import seaborn as sns

# Cell 2: Load Data
df = pd.read_csv("dataset.csv")
df.head()

# Cell 3: Basic Info
df.info()

# Cell 4: Statistical Summary
df.describe()

# Cell 5: Check Missing Values
df.isnull().sum()

# Cell 6: Correlation Heatmap
plt.figure(figsize=(10, 6))
sns.heatmap(df.corr(), annot=True, cmap="coolwarm")
plt.title("Feature Correlation Heatmap")
plt.show()

# Cell 7: Target Distribution
sns.countplot(x="target", data=df)
plt.title("Target Class Distribution")
plt.show()
